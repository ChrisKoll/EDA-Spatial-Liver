{
 "cells": [
  {
   "cell_type": "code",
   "execution_count": 11,
   "metadata": {},
   "outputs": [],
   "source": [
    "import anndata as ad\n",
    "import pandas as pd\n",
    "from scipy.io import mmread\n",
    "from scipy.sparse import csr_matrix"
   ]
  },
  {
   "cell_type": "code",
   "execution_count": 3,
   "metadata": {},
   "outputs": [
    {
     "data": {
      "text/plain": [
       "<COOrdinate sparse matrix of dtype 'int64'\n",
       "\twith 16181234 stored elements and shape (970, 67785)>"
      ]
     },
     "execution_count": 3,
     "metadata": {},
     "output_type": "execute_result"
    }
   ],
   "source": [
    "sparse_matrix = mmread(\"../data/seurat_counts.mtx\")\n",
    "sparse_matrix"
   ]
  },
  {
   "cell_type": "code",
   "execution_count": 13,
   "metadata": {},
   "outputs": [
    {
     "data": {
      "text/plain": [
       "<Compressed Sparse Column sparse matrix of dtype 'int64'\n",
       "\twith 16181234 stored elements and shape (67785, 970)>"
      ]
     },
     "execution_count": 13,
     "metadata": {},
     "output_type": "execute_result"
    }
   ],
   "source": [
    "# Convert to CSR format\n",
    "\n",
    "csr_matrix = csr_matrix(sparse_matrix)\n",
    "csr_matrix_t = csr_matrix.transpose()\n",
    "csr_matrix_t"
   ]
  },
  {
   "cell_type": "code",
   "execution_count": null,
   "metadata": {},
   "outputs": [
    {
     "data": {
      "text/html": [
       "<div>\n",
       "<style scoped>\n",
       "    .dataframe tbody tr th:only-of-type {\n",
       "        vertical-align: middle;\n",
       "    }\n",
       "\n",
       "    .dataframe tbody tr th {\n",
       "        vertical-align: top;\n",
       "    }\n",
       "\n",
       "    .dataframe thead th {\n",
       "        text-align: right;\n",
       "    }\n",
       "</style>\n",
       "<table border=\"1\" class=\"dataframe\">\n",
       "  <thead>\n",
       "    <tr style=\"text-align: right;\">\n",
       "      <th></th>\n",
       "      <th>nCount_Nanostring</th>\n",
       "      <th>nFeature_Nanostring</th>\n",
       "      <th>cell_ID</th>\n",
       "      <th>condition</th>\n",
       "      <th>Slide_name</th>\n",
       "      <th>tissue</th>\n",
       "      <th>fov</th>\n",
       "    </tr>\n",
       "  </thead>\n",
       "  <tbody>\n",
       "    <tr>\n",
       "      <th>0</th>\n",
       "      <td>450</td>\n",
       "      <td>181</td>\n",
       "      <td>c_1_1_3</td>\n",
       "      <td>healthy</td>\n",
       "      <td>S2</td>\n",
       "      <td>liver1</td>\n",
       "      <td>1</td>\n",
       "    </tr>\n",
       "    <tr>\n",
       "      <th>1</th>\n",
       "      <td>780</td>\n",
       "      <td>241</td>\n",
       "      <td>c_1_1_4</td>\n",
       "      <td>healthy</td>\n",
       "      <td>S2</td>\n",
       "      <td>liver1</td>\n",
       "      <td>1</td>\n",
       "    </tr>\n",
       "    <tr>\n",
       "      <th>2</th>\n",
       "      <td>752</td>\n",
       "      <td>260</td>\n",
       "      <td>c_1_1_5</td>\n",
       "      <td>healthy</td>\n",
       "      <td>S2</td>\n",
       "      <td>liver1</td>\n",
       "      <td>1</td>\n",
       "    </tr>\n",
       "    <tr>\n",
       "      <th>3</th>\n",
       "      <td>725</td>\n",
       "      <td>323</td>\n",
       "      <td>c_1_1_7</td>\n",
       "      <td>healthy</td>\n",
       "      <td>S2</td>\n",
       "      <td>liver1</td>\n",
       "      <td>1</td>\n",
       "    </tr>\n",
       "    <tr>\n",
       "      <th>4</th>\n",
       "      <td>395</td>\n",
       "      <td>142</td>\n",
       "      <td>c_1_1_8</td>\n",
       "      <td>healthy</td>\n",
       "      <td>S2</td>\n",
       "      <td>liver1</td>\n",
       "      <td>1</td>\n",
       "    </tr>\n",
       "    <tr>\n",
       "      <th>...</th>\n",
       "      <td>...</td>\n",
       "      <td>...</td>\n",
       "      <td>...</td>\n",
       "      <td>...</td>\n",
       "      <td>...</td>\n",
       "      <td>...</td>\n",
       "      <td>...</td>\n",
       "    </tr>\n",
       "    <tr>\n",
       "      <th>67780</th>\n",
       "      <td>579</td>\n",
       "      <td>222</td>\n",
       "      <td>c_2_45_531</td>\n",
       "      <td>cirrhosis</td>\n",
       "      <td>S3</td>\n",
       "      <td>liver2</td>\n",
       "      <td>45</td>\n",
       "    </tr>\n",
       "    <tr>\n",
       "      <th>67781</th>\n",
       "      <td>1015</td>\n",
       "      <td>270</td>\n",
       "      <td>c_2_45_532</td>\n",
       "      <td>cirrhosis</td>\n",
       "      <td>S3</td>\n",
       "      <td>liver2</td>\n",
       "      <td>45</td>\n",
       "    </tr>\n",
       "    <tr>\n",
       "      <th>67782</th>\n",
       "      <td>954</td>\n",
       "      <td>264</td>\n",
       "      <td>c_2_45_533</td>\n",
       "      <td>cirrhosis</td>\n",
       "      <td>S3</td>\n",
       "      <td>liver2</td>\n",
       "      <td>45</td>\n",
       "    </tr>\n",
       "    <tr>\n",
       "      <th>67783</th>\n",
       "      <td>2247</td>\n",
       "      <td>418</td>\n",
       "      <td>c_2_45_534</td>\n",
       "      <td>cirrhosis</td>\n",
       "      <td>S3</td>\n",
       "      <td>liver2</td>\n",
       "      <td>45</td>\n",
       "    </tr>\n",
       "    <tr>\n",
       "      <th>67784</th>\n",
       "      <td>164</td>\n",
       "      <td>81</td>\n",
       "      <td>c_2_45_535</td>\n",
       "      <td>cirrhosis</td>\n",
       "      <td>S3</td>\n",
       "      <td>liver2</td>\n",
       "      <td>45</td>\n",
       "    </tr>\n",
       "  </tbody>\n",
       "</table>\n",
       "<p>67785 rows × 7 columns</p>\n",
       "</div>"
      ],
      "text/plain": [
       "       nCount_Nanostring  nFeature_Nanostring     cell_ID  condition  \\\n",
       "0                    450                  181     c_1_1_3    healthy   \n",
       "1                    780                  241     c_1_1_4    healthy   \n",
       "2                    752                  260     c_1_1_5    healthy   \n",
       "3                    725                  323     c_1_1_7    healthy   \n",
       "4                    395                  142     c_1_1_8    healthy   \n",
       "...                  ...                  ...         ...        ...   \n",
       "67780                579                  222  c_2_45_531  cirrhosis   \n",
       "67781               1015                  270  c_2_45_532  cirrhosis   \n",
       "67782                954                  264  c_2_45_533  cirrhosis   \n",
       "67783               2247                  418  c_2_45_534  cirrhosis   \n",
       "67784                164                   81  c_2_45_535  cirrhosis   \n",
       "\n",
       "      Slide_name  tissue  fov  \n",
       "0             S2  liver1    1  \n",
       "1             S2  liver1    1  \n",
       "2             S2  liver1    1  \n",
       "3             S2  liver1    1  \n",
       "4             S2  liver1    1  \n",
       "...          ...     ...  ...  \n",
       "67780         S3  liver2   45  \n",
       "67781         S3  liver2   45  \n",
       "67782         S3  liver2   45  \n",
       "67783         S3  liver2   45  \n",
       "67784         S3  liver2   45  \n",
       "\n",
       "[67785 rows x 7 columns]"
      ]
     },
     "execution_count": 10,
     "metadata": {},
     "output_type": "execute_result"
    }
   ],
   "source": [
    "# Load metadata\n",
    "\n",
    "metadata = pd.read_csv(\"../data/seurat_metadata.csv\")\n",
    "metadata"
   ]
  },
  {
   "cell_type": "code",
   "execution_count": 15,
   "metadata": {},
   "outputs": [
    {
     "name": "stderr",
     "output_type": "stream",
     "text": [
      "/home/ubuntu/software/miniforge3/envs/liver-sc-imputation/lib/python3.12/site-packages/anndata/_core/aligned_df.py:68: ImplicitModificationWarning: Transforming to str index.\n",
      "  warnings.warn(\"Transforming to str index.\", ImplicitModificationWarning)\n"
     ]
    },
    {
     "data": {
      "text/plain": [
       "AnnData object with n_obs × n_vars = 67785 × 970\n",
       "    obs: 'nCount_Nanostring', 'nFeature_Nanostring', 'cell_ID', 'condition', 'Slide_name', 'tissue', 'fov'"
      ]
     },
     "execution_count": 15,
     "metadata": {},
     "output_type": "execute_result"
    }
   ],
   "source": [
    "adata = ad.AnnData(X=csr_matrix_t, obs=metadata)\n",
    "adata"
   ]
  },
  {
   "cell_type": "code",
   "execution_count": 22,
   "metadata": {},
   "outputs": [],
   "source": [
    "adata.write(\"../data/merged_liver.h5ad\")"
   ]
  }
 ],
 "metadata": {
  "kernelspec": {
   "display_name": "liver-sc-imputation",
   "language": "python",
   "name": "python3"
  },
  "language_info": {
   "codemirror_mode": {
    "name": "ipython",
    "version": 3
   },
   "file_extension": ".py",
   "mimetype": "text/x-python",
   "name": "python",
   "nbconvert_exporter": "python",
   "pygments_lexer": "ipython3",
   "version": "3.12.8"
  }
 },
 "nbformat": 4,
 "nbformat_minor": 2
}
